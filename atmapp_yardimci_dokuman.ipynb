{
  "nbformat": 4,
  "nbformat_minor": 0,
  "metadata": {
    "colab": {
      "provenance": []
    },
    "kernelspec": {
      "name": "python3",
      "display_name": "Python 3"
    },
    "language_info": {
      "name": "python"
    }
  },
  "cells": [
    {
      "cell_type": "code",
      "execution_count": 34,
      "metadata": {
        "colab": {
          "base_uri": "https://localhost:8080/",
          "height": 35
        },
        "id": "3ebdLDioGJxR",
        "outputId": "acf1a7b2-d91d-4ea3-febe-b52ef002aa62"
      },
      "outputs": [
        {
          "output_type": "execute_result",
          "data": {
            "text/plain": [
              "'834919'"
            ],
            "application/vnd.google.colaboratory.intrinsic+json": {
              "type": "string"
            }
          },
          "metadata": {},
          "execution_count": 34
        }
      ],
      "source": [
        "from datetime import datetime\n",
        "# 1 ocak 1970 timestamp()\n",
        "str(datetime.now().timestamp()).replace('.', '')[-6:]\n"
      ]
    },
    {
      "cell_type": "code",
      "source": [
        "str(datetime.now().year) + '00'+  str(datetime.now().month) + str(datetime.now().timestamp()).replace('.', '')[-6:]"
      ],
      "metadata": {
        "colab": {
          "base_uri": "https://localhost:8080/",
          "height": 35
        },
        "id": "DnD1lPPERNLC",
        "outputId": "88af99a1-e00e-4dca-c026-9ef2c9617529"
      },
      "execution_count": 29,
      "outputs": [
        {
          "output_type": "execute_result",
          "data": {
            "text/plain": [
              "'2025002740775'"
            ],
            "application/vnd.google.colaboratory.intrinsic+json": {
              "type": "string"
            }
          },
          "metadata": {},
          "execution_count": 29
        }
      ]
    },
    {
      "cell_type": "code",
      "source": [
        "str(int(datetime.now().timestamp()))[-6:]"
      ],
      "metadata": {
        "colab": {
          "base_uri": "https://localhost:8080/",
          "height": 35
        },
        "id": "uQ3iBHFhTJ0T",
        "outputId": "5999d4af-e0f4-483e-9c7f-d450d8b8e923"
      },
      "execution_count": 63,
      "outputs": [
        {
          "output_type": "execute_result",
          "data": {
            "text/plain": [
              "'366328'"
            ],
            "application/vnd.google.colaboratory.intrinsic+json": {
              "type": "string"
            }
          },
          "metadata": {},
          "execution_count": 63
        }
      ]
    },
    {
      "cell_type": "code",
      "source": [
        "_ = 5\n",
        "\n",
        "print(_)"
      ],
      "metadata": {
        "colab": {
          "base_uri": "https://localhost:8080/"
        },
        "id": "GB7SNOT4Tgzf",
        "outputId": "71b6a2ea-6ed7-45b7-8856-423512151d04"
      },
      "execution_count": 64,
      "outputs": [
        {
          "output_type": "stream",
          "name": "stdout",
          "text": [
            "5\n"
          ]
        }
      ]
    },
    {
      "cell_type": "code",
      "source": [
        "accounts = {'760414': {'holder_name': 'murat', 'account_number': '760414', 'account_type': 'tr_TR.UTF-8', 'balance': 301000.0, 'password': '2060', 'transactions': ['2025-02-06 14:30:43 Deposit: +300000.00', '2025-02-06 15:18:04 Deposit: +1000.00']}, '760420': {'holder_name': 'zeynep', 'account_number': '760420', 'account_type': 'de_DE.UTF-8', 'balance': 200000.0, 'password': '2565', 'transactions': ['2025-02-06 15:30:43 Deposit: +200000.00']}, '175735': {'holder_name': 'murat', 'account_number': '175735', 'account_type': 'en_GB.UTF-8', 'balance': 0.0, 'password': '3030', 'transactions': []}}"
      ],
      "metadata": {
        "id": "aiiENBGMdBUQ"
      },
      "execution_count": 65,
      "outputs": []
    },
    {
      "cell_type": "code",
      "source": [
        "accounts.values()\n",
        "\n",
        "for i in accounts.values():\n",
        "    print(i)"
      ],
      "metadata": {
        "colab": {
          "base_uri": "https://localhost:8080/"
        },
        "id": "hODJPoiuiEHP",
        "outputId": "44017c21-f3e6-4bd6-c9e8-0feba13ca763"
      },
      "execution_count": 72,
      "outputs": [
        {
          "output_type": "stream",
          "name": "stdout",
          "text": [
            "{'holder_name': 'murat', 'account_number': '760414', 'account_type': 'tr_TR.UTF-8', 'balance': 301000.0, 'password': '2060', 'transactions': ['2025-02-06 14:30:43 Deposit: +300000.00', '2025-02-06 15:18:04 Deposit: +1000.00']}\n",
            "{'holder_name': 'zeynep', 'account_number': '760420', 'account_type': 'de_DE.UTF-8', 'balance': 200000.0, 'password': '2565', 'transactions': ['2025-02-06 15:30:43 Deposit: +200000.00']}\n",
            "{'holder_name': 'murat', 'account_number': '175735', 'account_type': 'en_GB.UTF-8', 'balance': 0.0, 'password': '3030', 'transactions': []}\n"
          ]
        }
      ]
    },
    {
      "cell_type": "code",
      "source": [
        "listem = ['2025-02-06 14:30:43 Deposit: +300000.00',\n",
        "  '2025-02-06 15:18:04 Deposit: +1000.00']\n",
        "\n",
        "listem_str = '|'.join(listem)\n",
        "listem_str"
      ],
      "metadata": {
        "colab": {
          "base_uri": "https://localhost:8080/",
          "height": 35
        },
        "id": "yCGCaFKpiZ8B",
        "outputId": "d0b967ed-1181-42d6-af44-2f3adae8abda"
      },
      "execution_count": 70,
      "outputs": [
        {
          "output_type": "execute_result",
          "data": {
            "text/plain": [
              "'2025-02-06 14:30:43 Deposit: +300000.00|2025-02-06 15:18:04 Deposit: +1000.00'"
            ],
            "application/vnd.google.colaboratory.intrinsic+json": {
              "type": "string"
            }
          },
          "metadata": {},
          "execution_count": 70
        }
      ]
    },
    {
      "cell_type": "code",
      "source": [
        "bool(None)"
      ],
      "metadata": {
        "colab": {
          "base_uri": "https://localhost:8080/"
        },
        "id": "EFz56okiieHb",
        "outputId": "9982bc5d-7d61-4360-d716-d18eefbef096"
      },
      "execution_count": 73,
      "outputs": [
        {
          "output_type": "execute_result",
          "data": {
            "text/plain": [
              "False"
            ]
          },
          "metadata": {},
          "execution_count": 73
        }
      ]
    },
    {
      "cell_type": "code",
      "source": [
        "dict_example = { 1:'bir', 2:'iki'}\n",
        "\n",
        "\n",
        "'bir' in dict_example"
      ],
      "metadata": {
        "colab": {
          "base_uri": "https://localhost:8080/"
        },
        "id": "Z_n8OdvnoizO",
        "outputId": "ca29d178-6c11-47bb-8b7e-39dae2c46e42"
      },
      "execution_count": 75,
      "outputs": [
        {
          "output_type": "execute_result",
          "data": {
            "text/plain": [
              "False"
            ]
          },
          "metadata": {},
          "execution_count": 75
        }
      ]
    },
    {
      "cell_type": "code",
      "source": [
        "datetime.now().strftime('%Y-%m-%d %H:%M:%S')"
      ],
      "metadata": {
        "colab": {
          "base_uri": "https://localhost:8080/",
          "height": 35
        },
        "id": "enF2cK5coi1r",
        "outputId": "1a4a61f3-c5cb-4e27-a28c-bcd2f93e561e"
      },
      "execution_count": 79,
      "outputs": [
        {
          "output_type": "execute_result",
          "data": {
            "text/plain": [
              "'2025-02-12 15:21:14'"
            ],
            "application/vnd.google.colaboratory.intrinsic+json": {
              "type": "string"
            }
          },
          "metadata": {},
          "execution_count": 79
        }
      ]
    },
    {
      "cell_type": "code",
      "source": [],
      "metadata": {
        "id": "1wvVIBiPoi3w"
      },
      "execution_count": null,
      "outputs": []
    }
  ]
}